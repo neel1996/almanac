{
 "cells": [
  {
   "cell_type": "code",
   "execution_count": null,
   "metadata": {},
   "outputs": [],
   "source": [
    "!pip install pyspark findspark"
   ]
  },
  {
   "cell_type": "code",
   "execution_count": null,
   "metadata": {
    "ExecuteTime": {
     "end_time": "2024-04-14T13:19:25.716392Z",
     "start_time": "2024-04-14T13:19:12.950033Z"
    }
   },
   "outputs": [],
   "source": [
    "\"\"\"\n",
    "Create a SparkSession\n",
    "\"\"\"\n",
    "\n",
    "from pyspark.sql import SparkSession\n",
    "\n",
    "spark = (\n",
    "    SparkSession.builder.appName(\"Almanac\")\n",
    "    .config(\"spark.jars\", \"postgresql-42.7.3.jar\")\n",
    "    .getOrCreate()\n",
    ")\n",
    "\n",
    "spark"
   ]
  },
  {
   "cell_type": "code",
   "execution_count": null,
   "metadata": {
    "ExecuteTime": {
     "end_time": "2024-04-14T13:19:47.129390Z",
     "start_time": "2024-04-14T13:19:27.743384Z"
    }
   },
   "outputs": [],
   "source": [
    "\"\"\"\n",
    "    Load the OpenLibrary dataset\n",
    "\n",
    "    The OpenLibrary dataset does not include a header\n",
    "    so the headers are added manually\n",
    "\"\"\"\n",
    "\n",
    "df = spark.read.load(\n",
    "    \"ol_dump_works_2024-03-31.txt\",\n",
    "    format=\"csv\",\n",
    "    sep=\"\\t\",\n",
    "    inferSchema=\"true\",\n",
    "    header=\"true\",\n",
    ")\n",
    "\n",
    "df = df.drop(\"type\", \"editions\", \"date\")"
   ]
  },
  {
   "cell_type": "code",
   "execution_count": null,
   "metadata": {
    "ExecuteTime": {
     "end_time": "2024-04-14T13:22:55.241131Z",
     "start_time": "2024-04-14T13:22:55.220844Z"
    }
   },
   "outputs": [],
   "source": [
    "\"\"\"\n",
    "    Extract the ID from the id column\n",
    "    Extract the title and description from the book_data column\n",
    "\"\"\"\n",
    "\n",
    "from pyspark.sql.functions import split, from_json, get_json_object\n",
    "\n",
    "extract_id = split(df[\"id\"], \"/\").getItem(2)\n",
    "df = df.withColumn(\"id\", extract_id)\n",
    "\n",
    "extract_title = from_json(df[\"book_data\"], \"MAP<STRING, STRING>\").getItem(\"title\")\n",
    "df = df.withColumn(\"title\", extract_title)\n",
    "\n",
    "extract_description = from_json(df[\"book_data\"], \"MAP<STRING, STRING>\").getItem(\n",
    "    \"description\"\n",
    ")\n",
    "df = df.withColumn(\"description\", extract_description)\n",
    "\n",
    "clean_description = (\n",
    "    from_json(df[\"description\"], \"MAP<STRING, STRING>\").getItem(\"value\")\n",
    "    if get_json_object(df[\"description\"], \"$.value\") is not None\n",
    "    else df[\"description\"]\n",
    ")\n",
    "df = df.withColumn(\"description\", clean_description)\n",
    "df = df.where(df[\"title\"].isNotNull())"
   ]
  },
  {
   "cell_type": "code",
   "execution_count": null,
   "metadata": {
    "ExecuteTime": {
     "end_time": "2024-04-14T13:22:57.847597Z",
     "start_time": "2024-04-14T13:22:57.684228Z"
    }
   },
   "outputs": [],
   "source": [
    "df.show()"
   ]
  },
  {
   "cell_type": "code",
   "execution_count": null,
   "metadata": {},
   "outputs": [],
   "source": [
    "\"\"\"\n",
    "    Write the DataFrame to a PostgreSQL database\n",
    "\"\"\"\n",
    "\n",
    "import os\n",
    "\n",
    "DB_HOST = os.getenv(\"DB_HOST\", \"localhost\")\n",
    "DB_PORT = os.getenv(\"DB_PORT\", \"54322\")\n",
    "DB_USER = os.getenv(\"DB_USER\", \"postgres\")\n",
    "DB_PASSWORD = os.getenv(\"DB_PASSWORD\", \"postgres\")\n",
    "DB_NAME = os.getenv(\"DB_NAME\", \"postgres\")\n",
    "\n",
    "df.select(\"id\", \"title\", \"description\").write.mode(\"append\").format(\"jdbc\").option(\n",
    "    \"url\", f\"jdbc:postgresql://{DB_HOST}:{DB_PORT}/{DB_NAME}\"\n",
    ").option(\"driver\", \"org.postgresql.Driver\").option(\"dbtable\", \"books\").option(\n",
    "    \"user\", DB_USER\n",
    ").option(\n",
    "    \"password\", DB_PASSWORD\n",
    ").save()"
   ]
  }
 ],
 "metadata": {
  "kernelspec": {
   "display_name": "Python 3 (ipykernel)",
   "language": "python",
   "name": "python3"
  },
  "language_info": {
   "codemirror_mode": {
    "name": "ipython",
    "version": 3
   },
   "file_extension": ".py",
   "mimetype": "text/x-python",
   "name": "python",
   "nbconvert_exporter": "python",
   "pygments_lexer": "ipython3",
   "version": "3.11.7"
  }
 },
 "nbformat": 4,
 "nbformat_minor": 2
}
